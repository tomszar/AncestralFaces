{
 "cells": [
  {
   "cell_type": "markdown",
   "metadata": {},
   "source": [
    "# HGDP Transformation\n",
    "This script will take the original HGDP database and transform it to plink file"
   ]
  },
  {
   "cell_type": "code",
   "execution_count": 1,
   "metadata": {
    "collapsed": true
   },
   "outputs": [],
   "source": [
    "import os \n",
    "import csv\n",
    "import pandas as pd\n",
    "import numpy as np\n",
    "#from sqlalchemy import create_engine\n",
    "os.chdir('..')\n",
    "path = os.getcwd()\n",
    "hgdppath = os.path.join(path, 'Results\\\\temp\\hgdp')\n",
    "os.chdir(hgdppath)"
   ]
  },
  {
   "cell_type": "code",
   "execution_count": 2,
   "metadata": {},
   "outputs": [
    {
     "name": "stdout",
     "output_type": "stream",
     "text": [
      "There are 1043 subjects and 660918 genotypes\n"
     ]
    }
   ],
   "source": [
    "with open('HGDP_FinalReport_Forward.txt') as f:\n",
    "    line = f.readline()\n",
    "ncols = len(line.split())\n",
    "\n",
    "with open('HGDP_Map.txt') as f:\n",
    "    nrows = sum(1 for _ in f)\n",
    "    \n",
    "print('There are', ncols, 'subjects and', nrows, 'genotypes')"
   ]
  },
  {
   "cell_type": "markdown",
   "metadata": {},
   "source": [
    "First we will load each column from the original file.\n",
    "Each column correspond to a single row in the final plink file.\n",
    "After reading each column, we'll create a list of characters wich will be written in a csv file.\n",
    "For each row, we will add 6 initial columns, the first two with the ID, and the four remaining with zeros (Paternal ID, Maternal ID, Sex, Phenotype)."
   ]
  },
  {
   "cell_type": "code",
   "execution_count": 3,
   "metadata": {},
   "outputs": [
    {
     "data": {
      "text/html": [
       "<div>\n",
       "<table border=\"1\" class=\"dataframe\">\n",
       "  <thead>\n",
       "    <tr style=\"text-align: right;\">\n",
       "      <th></th>\n",
       "      <th>0</th>\n",
       "      <th>1</th>\n",
       "      <th>2</th>\n",
       "      <th>3</th>\n",
       "      <th>4</th>\n",
       "      <th>5</th>\n",
       "      <th>6</th>\n",
       "      <th>7</th>\n",
       "      <th>8</th>\n",
       "      <th>9</th>\n",
       "      <th>...</th>\n",
       "      <th>1034</th>\n",
       "      <th>1035</th>\n",
       "      <th>1036</th>\n",
       "      <th>1037</th>\n",
       "      <th>1038</th>\n",
       "      <th>1039</th>\n",
       "      <th>1040</th>\n",
       "      <th>1041</th>\n",
       "      <th>1042</th>\n",
       "      <th>1043</th>\n",
       "    </tr>\n",
       "  </thead>\n",
       "  <tbody>\n",
       "    <tr>\n",
       "      <th>0</th>\n",
       "      <td>NaN</td>\n",
       "      <td>HGDP00448</td>\n",
       "      <td>HGDP00479</td>\n",
       "      <td>HGDP00985</td>\n",
       "      <td>HGDP01094</td>\n",
       "      <td>HGDP00982</td>\n",
       "      <td>HGDP00911</td>\n",
       "      <td>HGDP01202</td>\n",
       "      <td>HGDP00927</td>\n",
       "      <td>HGDP00461</td>\n",
       "      <td>...</td>\n",
       "      <td>HGDP01342</td>\n",
       "      <td>HGDP00824</td>\n",
       "      <td>HGDP01319</td>\n",
       "      <td>HGDP01357</td>\n",
       "      <td>HGDP00549</td>\n",
       "      <td>HGDP00953</td>\n",
       "      <td>HGDP01070</td>\n",
       "      <td>HGDP01376</td>\n",
       "      <td>HGDP00671</td>\n",
       "      <td>HGDP01024</td>\n",
       "    </tr>\n",
       "  </tbody>\n",
       "</table>\n",
       "<p>1 rows × 1044 columns</p>\n",
       "</div>"
      ],
      "text/plain": [
       "   0          1          2          3          4          5          6     \\\n",
       "0   NaN  HGDP00448  HGDP00479  HGDP00985  HGDP01094  HGDP00982  HGDP00911   \n",
       "\n",
       "        7          8          9       ...           1034       1035  \\\n",
       "0  HGDP01202  HGDP00927  HGDP00461    ...      HGDP01342  HGDP00824   \n",
       "\n",
       "        1036       1037       1038       1039       1040       1041  \\\n",
       "0  HGDP01319  HGDP01357  HGDP00549  HGDP00953  HGDP01070  HGDP01376   \n",
       "\n",
       "        1042       1043  \n",
       "0  HGDP00671  HGDP01024  \n",
       "\n",
       "[1 rows x 1044 columns]"
      ]
     },
     "execution_count": 3,
     "metadata": {},
     "output_type": "execute_result"
    }
   ],
   "source": [
    "ids   = pd.read_csv('HGDP_FinalReport_Forward.txt', sep = '\\t' , header=None, nrows=1,\n",
    "                    squeeze=True)\n",
    "zeros = ['0','0','0','0']\n",
    "ids"
   ]
  },
  {
   "cell_type": "code",
   "execution_count": 4,
   "metadata": {
    "collapsed": true,
    "scrolled": true
   },
   "outputs": [],
   "source": [
    "for sub in range(1,ncols):#change to ncols\n",
    "    datcol  = pd.read_csv('HGDP_FinalReport_Forward.txt', sep = '\\t' , header=None, skiprows=1,\n",
    "                          usecols=[sub], squeeze=True)\n",
    "    fincol  = list(''.join(datcol))\n",
    "    towrite = list(ids[sub]) + list(ids[sub]) + zeros + fincol\n",
    "    with open('HGDP.ped', 'a', newline='') as f:\n",
    "        writer = csv.writer(f, delimiter=' ')\n",
    "        writer.writerow(towrite)"
   ]
  }
 ],
 "metadata": {
  "kernelspec": {
   "display_name": "Python 3",
   "language": "python",
   "name": "python3"
  },
  "language_info": {
   "codemirror_mode": {
    "name": "ipython",
    "version": 3
   },
   "file_extension": ".py",
   "mimetype": "text/x-python",
   "name": "python",
   "nbconvert_exporter": "python",
   "pygments_lexer": "ipython3",
   "version": "3.5.1"
  }
 },
 "nbformat": 4,
 "nbformat_minor": 2
}
